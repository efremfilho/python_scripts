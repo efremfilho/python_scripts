{
  "nbformat": 4,
  "nbformat_minor": 0,
  "metadata": {
    "colab": {
      "provenance": [],
      "authorship_tag": "ABX9TyN4EoEAK8eNKIemiZt2Mjjp"
    },
    "kernelspec": {
      "name": "python3",
      "display_name": "Python 3"
    },
    "language_info": {
      "name": "python"
    }
  },
  "cells": [
    {
      "cell_type": "code",
      "execution_count": null,
      "metadata": {
        "id": "5Hwr24Y8YeKC"
      },
      "outputs": [],
      "source": [
        "!pip install yt-dlp\n",
        "import yt_dlp  # Import yt-dlp instead of youtube-dl\n",
        "\n",
        "ydl_opts = {\n",
        "    'format': 'best',  # Download the best quality available, regardless of signature\n",
        "    'outtmpl': 'audio.%(ext)s',\n",
        "    'extractaudio': True,\n",
        "    'audioformat': 'mp3'\n",
        "}\n",
        "\n",
        "with yt_dlp.YoutubeDL(ydl_opts) as ydl:  # Use yt_dlp.YoutubeDL\n",
        "    ydl.download(['[YT Link]]']) #Apresentação de Resultados do Itaú"
      ]
    },
    {
      "cell_type": "code",
      "source": [
        "# convert mp4 to mp3\n",
        "!apt-get update -qq\n",
        "!apt-get install -y -qq ffmpeg\n",
        "\n",
        "!ffmpeg -i /content/audio.mp4 /content/output_audio.mp3"
      ],
      "metadata": {
        "id": "Rb5PxyFRbx2T"
      },
      "execution_count": null,
      "outputs": []
    },
    {
      "cell_type": "code",
      "source": [
        "# Convert the audio to 32k bitrate\n",
        "!ffmpeg -i /content/output_audio.mp3 -b:a 64k /content/output_audio_64k.mp3"
      ],
      "metadata": {
        "id": "djUZoBuQkuYy"
      },
      "execution_count": null,
      "outputs": []
    },
    {
      "cell_type": "code",
      "source": [
        "# If you prefer, convert to OGG format optimized for speech\n",
        "!ffmpeg -i /content/output_audio.mp3 -c:a libopus -nostats -loglevel error /content/output_audio_reduced.ogg"
      ],
      "metadata": {
        "id": "DglFSPqKlvyW"
      },
      "execution_count": null,
      "outputs": []
    },
    {
      "cell_type": "code",
      "source": [
        "# Get the size of files. Hint: NotebookLM only allows up to 200MB\n",
        "import os\n",
        "\n",
        "def get_file_size(file_path):\n",
        "  \"\"\"Calculates the size of a file in bytes, kilobytes, and megabytes.\"\"\"\n",
        "  if os.path.exists(file_path):\n",
        "    size_in_bytes = os.path.getsize(file_path)\n",
        "    size_in_kb = size_in_bytes / 1024\n",
        "    size_in_mb = size_in_kb / 1024\n",
        "    return f\"{size_in_bytes} bytes ({size_in_kb:.2f} KB or {size_in_mb:.2f} MB)\"\n",
        "  else:\n",
        "    return f\"File not found: {file_path}\"\n",
        "\n",
        "# Calculate and print the size of the original and reduced audio files\n",
        "original_audio_path = '/content/output_audio.mp3'\n",
        "reduced_ogg_path = '/content/output_audio_reduced.ogg'\n",
        "reduced_mp3_path = '/content/output_audio_32k.mp3'\n",
        "\n",
        "print(f\"Size of original audio file: {get_file_size(original_audio_path)}\")\n",
        "print(f\"Size of reduced ogg file: {get_file_size(reduced_ogg_path)}\")\n",
        "print(f\"Size of reduced mp3 file: {get_file_size(reduced_mp3_path)}\")"
      ],
      "metadata": {
        "id": "qswv3Gpmv61a"
      },
      "execution_count": null,
      "outputs": []
    }
  ]
}