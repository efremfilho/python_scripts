{
  "nbformat": 4,
  "nbformat_minor": 0,
  "metadata": {
    "colab": {
      "provenance": []
    },
    "kernelspec": {
      "name": "python3",
      "display_name": "Python 3"
    },
    "language_info": {
      "name": "python"
    }
  },
  "cells": [
    {
      "cell_type": "code",
      "source": [
        "# ========================================\n",
        "# Demonstração dos principais tipos de variáveis em Python\n",
        "# ========================================\n",
        "\n",
        "# Numéricos: inteiro e float\n",
        "num_int = 42              # Exemplo de número inteiro\n",
        "num_float = 3.1415        # Exemplo de número com ponto flutuante (float)\n",
        "print(\"Integer:\", num_int, \"| Tipo:\", type(num_int))\n",
        "print(\"Float:\", num_float, \"| Tipo:\", type(num_float))\n",
        "\n",
        "# String: sequência de caracteres\n",
        "texto = \"Hello, Python!\"\n",
        "print(\"String:\", texto, \"| Tipo:\", type(texto))\n",
        "\n",
        "# Booleanos: valores True ou False\n",
        "verdadeiro = True\n",
        "falso = False\n",
        "print(\"Boolean verd:\", verdadeiro, \"| Tipo:\", type(verdadeiro))\n",
        "print(\"Boolean fals:\", falso, \"| Tipo:\", type(falso))\n",
        "\n",
        "# Listas: coleção ordenada e mutável de elementos\n",
        "lista = [1, 2, 3, \"quatro\", 5.0]\n",
        "print(\"List:\", lista, \"| Tipo:\", type(lista))\n",
        "\n",
        "# Tuplas: coleção ordenada e imutável\n",
        "tupla = (1, 2, 3)\n",
        "print(\"Tuple:\", tupla, \"| Tipo:\", type(tupla))\n",
        "\n",
        "# Dicionários: coleção de pares chave-valor\n",
        "dicionario = {\"nome\": \"efrem\", \"idade\": 30}\n",
        "print(\"Dictionary:\", dicionario, \"| Tipo:\", type(dicionario))\n",
        "\n",
        "# Sets: coleção de elementos únicos (não ordenada)\n",
        "conjunto = {1, 2, 3, 2, 1}\n",
        "print(\"Set:\", conjunto, \"| Tipo:\", type(conjunto))\n",
        "\n",
        "# ========================================\n",
        "# Operações e conversão de tipos\n",
        "# ========================================\n",
        "\n",
        "# Exemplo de concatenação de string com número (necessário converter o número para string)\n",
        "soma = num_int + num_float\n",
        "print(\"Soma (num_int + num_float):\", soma, \"| Tipo:\", type(soma))"
      ],
      "metadata": {
        "id": "Uwz93e-SVWu4"
      },
      "execution_count": null,
      "outputs": []
    },
    {
      "cell_type": "code",
      "source": [
        "# ========================================\n",
        "# Estrutura condicional (if, elif, else)\n",
        "# ========================================\n",
        "\n",
        "# Verifica se a variável 'texto' possui um valor específico e concatena com uma mensagem.\n",
        "if texto == \"Olá, Python!\":\n",
        "    resultado = texto + \" é incrível!\"\n",
        "elif texto == \"Olá\":\n",
        "    resultado = texto + \", mundo!\"\n",
        "else:\n",
        "    resultado = texto + \" - valor não esperado.\"\n",
        "print(\"Resultado condicional:\", resultado)"
      ],
      "metadata": {
        "id": "QiLe8QrvVaji"
      },
      "execution_count": null,
      "outputs": []
    },
    {
      "cell_type": "code",
      "source": [
        "# ========================================\n",
        "# Estruturas de repetição (loops)\n",
        "# ========================================\n",
        "\n",
        "# Loop sobre uma lista: itera e imprime cada elemento da lista 'lista'\n",
        "print(\"Iterando sobre a lista:\")\n",
        "for item in lista:\n",
        "    print(\"Item:\", item)\n",
        "\n",
        "# Loop utilizando 'range': gera uma sequência de números e imprime cada um dividido por 10\n",
        "print(\"Iterando com range:\")\n",
        "for i in range(10, 100, 6):  # Inicia em 10, vai até 100, incrementando de 6 em 6\n",
        "    print(\"Valor:\", i / 10)"
      ],
      "metadata": {
        "id": "xlzdipC0Vex3"
      },
      "execution_count": null,
      "outputs": []
    },
    {
      "cell_type": "code",
      "source": [
        "# Importação de bibliotecas:\n",
        "# A biblioteca 'requests' é utilizada para realizar requisições HTTP.\n",
        "# A biblioteca 'json' é utilizada para manipular dados no formato JSON.\n",
        "import requests\n",
        "import json\n",
        "from google.colab import userdata\n",
        "\n",

      ],
      "metadata": {
        "id": "1gY4S-HGVL1k"
      },
      "execution_count": null,
      "outputs": []
    },
    {
      "cell_type": "code",
      "source": [
        "# @title\n",
        "# ========================================\n",
        "# Consumo de API Externa: Google Maps Places API\n",
        "# ========================================\n",
        "\n",
        "# Monta a URL da API e define os parâmetros para a requisição.\n",
        "# NOTA: Substitua '[API-KEY]' pela sua chave de API válida.\n",
        "url = \"https://maps.googleapis.com/maps/api/place/nearbysearch/json\"\n",
        "params = {\n",
        "    \"location\": \"-7.136722,-34.845641\",  # Coordenadas de localização\n",
        "    \"radius\": 20000,                     # Raio de busca (em metros)\n",
        "    \"types\": \"restaurant\",               # Tipo de estabelecimento a ser buscado\n",
        "    \"key\": userdata.get('token')                   # Chave da API\n",
        "}\n",
        "\n",
        "# Envia a requisição GET para a API com os parâmetros especificados\n",
        "response = requests.get(url, params=params)\n",
        "\n",
        "# Converte a resposta para o formato JSON\n",
        "data = response.json()\n",
        "\n",
        "# Exibe os restaurantes encontrados (localização)\n",
        "print(\"Restaurantes encontrados:\")\n",
        "for place in data.get('results', []):\n",
        "    print(\"Local:\", place.get('vicinity'))\n",
        "\n",
        "# Exibe o JSON completo, formatado para melhor visualização\n",
        "print(\"Dados JSON formatados:\")\n",
        "print(json.dumps(data, indent=4, sort_keys=True))"
      ],
      "metadata": {
        "id": "cWX3CejdVkWJ"
      },
      "execution_count": null,
      "outputs": []
    }
  ]
}
