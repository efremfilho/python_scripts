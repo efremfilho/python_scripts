{
  "nbformat": 4,
  "nbformat_minor": 0,
  "metadata": {
    "colab": {
      "provenance": []
    },
    "kernelspec": {
      "name": "python3",
      "display_name": "Python 3"
    },
    "language_info": {
      "name": "python"
    }
  },
  "cells": [
    {
      "cell_type": "code",
      "metadata": {
        "id": "0839b1d0"
      },
      "source": [
        "!pip install -U -q moviepy"
      ],
      "execution_count": null,
      "outputs": []
    },
    {
      "cell_type": "code",
      "metadata": {
        "colab": {
          "base_uri": "https://localhost:8080/"
        },
        "id": "07c42e43",
        "outputId": "c6e12f20-c631-4a92-97a0-6c5ed6752e74"
      },
      "source": [
        "from google.colab import drive\n",
        "import os\n",
        "\n",
        "# Mount Google Drive\n",
        "drive.mount('/content/drive')\n",
        "\n",
        "# Replace 'YOUR_VIDEO_FILE_PATH' with the actual path to your video file in Google Drive\n",
        "# Example: '/content/drive/My Drive/meeting_recordings/my_video.mp4'\n",
        "video_file_path = ''\n",
        "\n",
        "# Check if the file exists\n",
        "if os.path.exists(video_file_path):\n",
        "    print(f'Found video file: {video_file_path}')\n",
        "else:\n",
        "    print(f'Error: Video file not found at {video_file_path}')"
      ],
      "execution_count": null,
      "outputs": [
        {
          "output_type": "stream",
          "name": "stdout",
          "text": [
            "Drive already mounted at /content/drive; to attempt to forcibly remount, call drive.mount(\"/content/drive\", force_remount=True).\n",
            "Error: Video file not found at https://drive.google.com/file/d/15GyGqq5GjDXw-rXJzdaVu5bA3Gfd6Mxf/view?usp=drive_link\n"
          ]
        }
      ]
    },
    {
      "cell_type": "markdown",
      "metadata": {
        "id": "11239491"
      },
      "source": [
        "To authenticate with Google Drive in Colab, you'll need to follow these steps when prompted:\n",
        "\n",
        "1. Go to the given URL in a browser.\n",
        "2. Log in with your Google account.\n",
        "3. Grant the necessary permissions.\n",
        "4. Copy the authorization code provided.\n",
        "5. Paste the authorization code into the input field in the output of the code cell below and press Enter."
      ]
    },
    {
      "cell_type": "markdown",
      "metadata": {
        "id": "190ff40d"
      },
      "source": [
        "Now that your Google Drive is mounted and `moviepy` is installed, you can run the code to extract audio from your video file.\n",
        "\n",
        "Make sure to replace `'YOUR_VIDEO_FILE_PATH'` in the code with the actual path to your video file in Google Drive."
      ]
    },
    {
      "cell_type": "code",
      "metadata": {
        "colab": {
          "base_uri": "https://localhost:8080/"
        },
        "id": "191c8d7f",
        "outputId": "1746b4e8-ff7c-40ce-8ad6-b0991b4d504a"
      },
      "source": [
        "# Replace 'YOUR_VIDEO_FILE_PATH' with the actual path to your video file in Google Drive\n",
        "# Example: '/content/drive/My Drive/meeting_recordings/my_video.mp4'\n",
        "video_file_path = '/content/drive/MyDrive/Meet Recordings/Isabella   Éfrem – 2024 10 03 14:39 BRT – Recording'\n",
        "output_audio_path = 'extracted_audio.mp3' # You can specify a path in your Drive here as well\n",
        "\n",
        "# Use ffmpeg to extract audio\n",
        "!ffmpeg -i \"{video_file_path}\" -vn -acodec libmp3lame -ab 192k -ar 44100 -y \"{output_audio_path}\"\n",
        "\n",
        "print(f'Extracted audio file: {output_audio_path}')"
      ],
      "execution_count": null,
      "outputs": [
        {
          "output_type": "stream",
          "name": "stdout",
          "text": [
            "ffmpeg version 4.4.2-0ubuntu0.22.04.1 Copyright (c) 2000-2021 the FFmpeg developers\n",
            "  built with gcc 11 (Ubuntu 11.2.0-19ubuntu1)\n",
            "  configuration: --prefix=/usr --extra-version=0ubuntu0.22.04.1 --toolchain=hardened --libdir=/usr/lib/x86_64-linux-gnu --incdir=/usr/include/x86_64-linux-gnu --arch=amd64 --enable-gpl --disable-stripping --enable-gnutls --enable-ladspa --enable-libaom --enable-libass --enable-libbluray --enable-libbs2b --enable-libcaca --enable-libcdio --enable-libcodec2 --enable-libdav1d --enable-libflite --enable-libfontconfig --enable-libfreetype --enable-libfribidi --enable-libgme --enable-libgsm --enable-libjack --enable-libmp3lame --enable-libmysofa --enable-libopenjpeg --enable-libopenmpt --enable-libopus --enable-libpulse --enable-librabbitmq --enable-librubberband --enable-libshine --enable-libsnappy --enable-libsoxr --enable-libspeex --enable-libsrt --enable-libssh --enable-libtheora --enable-libtwolame --enable-libvidstab --enable-libvorbis --enable-libvpx --enable-libwebp --enable-libx265 --enable-libxml2 --enable-libxvid --enable-libzimg --enable-libzmq --enable-libzvbi --enable-lv2 --enable-omx --enable-openal --enable-opencl --enable-opengl --enable-sdl2 --enable-pocketsphinx --enable-librsvg --enable-libmfx --enable-libdc1394 --enable-libdrm --enable-libiec61883 --enable-chromaprint --enable-frei0r --enable-libx264 --enable-shared\n",
            "  libavutil      56. 70.100 / 56. 70.100\n",
            "  libavcodec     58.134.100 / 58.134.100\n",
            "  libavformat    58. 76.100 / 58. 76.100\n",
            "  libavdevice    58. 13.100 / 58. 13.100\n",
            "  libavfilter     7.110.100 /  7.110.100\n",
            "  libswscale      5.  9.100 /  5.  9.100\n",
            "  libswresample   3.  9.100 /  3.  9.100\n",
            "  libpostproc    55.  9.100 / 55.  9.100\n",
            "Input #0, mov,mp4,m4a,3gp,3g2,mj2, from '/content/drive/MyDrive/Meet Recordings/Isabella   Éfrem – 2024 10 03 14:39 BRT – Recording':\n",
            "  Metadata:\n",
            "    major_brand     : isom\n",
            "    minor_version   : 512\n",
            "    compatible_brands: isomiso2avc1mp41\n",
            "    encoder         : Google\n",
            "  Duration: 00:08:40.04, start: 0.000000, bitrate: 1613 kb/s\n",
            "  Stream #0:0(und): Video: h264 (High) (avc1 / 0x31637661), yuv420p, 1920x1080, 1481 kb/s, 24 fps, 24 tbr, 12288 tbn, 48 tbc (default)\n",
            "    Metadata:\n",
            "      handler_name    : VideoHandler\n",
            "      vendor_id       : [0][0][0][0]\n",
            "  Stream #0:1(und): Audio: aac (LC) (mp4a / 0x6134706D), 48000 Hz, stereo, fltp, 128 kb/s (default)\n",
            "    Metadata:\n",
            "      handler_name    : SoundHandler\n",
            "      vendor_id       : [0][0][0][0]\n",
            "Stream mapping:\n",
            "  Stream #0:1 -> #0:0 (aac (native) -> mp3 (libmp3lame))\n",
            "Press [q] to stop, [?] for help\n",
            "Output #0, mp3, to 'extracted_audio.mp3':\n",
            "  Metadata:\n",
            "    major_brand     : isom\n",
            "    minor_version   : 512\n",
            "    compatible_brands: isomiso2avc1mp41\n",
            "    TSSE            : Lavf58.76.100\n",
            "  Stream #0:0(und): Audio: mp3, 44100 Hz, stereo, fltp, 192 kb/s (default)\n",
            "    Metadata:\n",
            "      handler_name    : SoundHandler\n",
            "      vendor_id       : [0][0][0][0]\n",
            "      encoder         : Lavc58.134.100 libmp3lame\n",
            "size=   12189kB time=00:08:39.99 bitrate= 192.0kbits/s speed=  33x    \n",
            "video:0kB audio:12189kB subtitle:0kB other streams:0kB global headers:0kB muxing overhead: 0.006201%\n",
            "Extracted audio file: extracted_audio.mp3\n"
          ]
        }
      ]
    },
    {
      "cell_type": "markdown",
      "metadata": {
        "id": "aca7dfcb"
      },
      "source": [
        "Now that your Google Drive is mounted and `moviepy` is installed, you can run the code to extract audio from your video file.\n",
        "\n",
        "Make sure to replace `'YOUR_VIDEO_FILE_PATH'` in the code with the actual path to your video file in Google Drive (e.g., `'/content/drive/My Drive/meeting_recordings/my_video.mp4'`)."
      ]
    }
  ]
}