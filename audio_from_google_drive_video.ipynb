{
  "nbformat": 4,
  "nbformat_minor": 0,
  "metadata": {
    "colab": {
      "provenance": []
    },
    "kernelspec": {
      "name": "python3",
      "display_name": "Python 3"
    },
    "language_info": {
      "name": "python"
    }
  },
  "cells": [
    {
      "cell_type": "code",
      "metadata": {
        "id": "0839b1d0"
      },
      "source": [
        "!pip install -U -q moviepy"
      ],
      "execution_count": null,
      "outputs": []
    },
    {
      "cell_type": "code",
      "metadata": {
        "id": "07c42e43"
      },
      "source": [
        "from google.colab import drive\n",
        "import os\n",
        "\n",
        "# Mount Google Drive\n",
        "drive.mount('/content/drive')\n",
        "\n",
        "# Replace 'YOUR_VIDEO_FILE_PATH' with the actual path to your video file in Google Drive\n",
        "# Example: '/content/drive/My Drive/meeting_recordings/my_video.mp4'\n",
        "video_file_path = '[YOUR VIDEO PATH]'\n",
        "\n",
        "# Check if the file exists\n",
        "if os.path.exists(video_file_path):\n",
        "    print(f'Found video file: {video_file_path}')\n",
        "else:\n",
        "    print(f'Error: Video file not found at {video_file_path}')"
      ],
      "execution_count": null,
      "outputs": []
    },
    {
      "cell_type": "markdown",
      "metadata": {
        "id": "11239491"
      },
      "source": [
        "To authenticate with Google Drive in Colab, you'll need to follow these steps when prompted:\n",
        "\n",
        "1. Go to the given URL in a browser.\n",
        "2. Log in with your Google account.\n",
        "3. Grant the necessary permissions.\n",
        "4. Copy the authorization code provided.\n",
        "5. Paste the authorization code into the input field in the output of the code cell below and press Enter."
      ]
    },
    {
      "cell_type": "markdown",
      "metadata": {
        "id": "190ff40d"
      },
      "source": [
        "Now that your Google Drive is mounted and `moviepy` is installed, you can run the code to extract audio from your video file.\n",
        "\n",
        "Make sure to replace `'YOUR_VIDEO_FILE_PATH'` in the code with the actual path to your video file in Google Drive."
      ]
    },
    {
      "cell_type": "code",
      "metadata": {
        "id": "191c8d7f"
      },
      "source": [
        "# Replace 'YOUR_VIDEO_FILE_PATH' with the actual path to your video file in Google Drive\n",
        "# Example: '/content/drive/My Drive/meeting_recordings/my_video.mp4'\n",
        "video_file_path = '[YOUR VIDEO PATH]'\n",
        "output_audio_path = 'extracted_audio.mp3' # You can specify a path in your Drive here as well\n",
        "\n",
        "# Use ffmpeg to extract audio\n",
        "!ffmpeg -i \"{video_file_path}\" -vn -acodec libmp3lame -ab 192k -ar 44100 -y \"{output_audio_path}\"\n",
        "\n",
        "print(f'Extracted audio file: {output_audio_path}')"
      ],
      "execution_count": null,
      "outputs": []
    },
    {
      "cell_type": "markdown",
      "metadata": {
        "id": "aca7dfcb"
      },
      "source": [
        "Now that your Google Drive is mounted and `moviepy` is installed, you can run the code to extract audio from your video file.\n",
        "\n",
        "Make sure to replace `'YOUR_VIDEO_FILE_PATH'` in the code with the actual path to your video file in Google Drive (e.g., `'/content/drive/My Drive/meeting_recordings/my_video.mp4'`)."
      ]
    }
  ]
}