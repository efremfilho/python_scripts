{
  "cells": [
    {
      "cell_type": "markdown",
      "id": "92a1ec18",
      "metadata": {
        "id": "92a1ec18"
      },
      "source": [
        "## Academic Paper Translation Pipeline — *o3 Responses API* (v3 🚀)"
      ]
    },
    {
      "cell_type": "markdown",
      "id": "7b608019",
      "metadata": {
        "id": "7b608019"
      },
      "source": [
        "## 0️⃣ Install dependencies\n",
        "Correct packages only — `mammoth` is the right name.\n"
      ]
    },
    {
      "cell_type": "code",
      "execution_count": null,
      "id": "ef358dbf",
      "metadata": {
        "id": "ef358dbf"
      },
      "outputs": [],
      "source": [
        "!pip -q install --upgrade mammoth python-docx==1.1.0 tiktoken pypandoc openai tqdm\n",
        "!apt-get -qq update && apt-get -y -qq install pandoc texlive-xetex\n"
      ]
    },
    {
      "cell_type": "markdown",
      "id": "d7a72256",
      "metadata": {
        "id": "d7a72256"
      },
      "source": [
        "## 1️⃣ Upload your `.docx` and set languages\n"
      ]
    },
    {
      "cell_type": "code",
      "execution_count": null,
      "id": "d72edfa6",
      "metadata": {
        "id": "d72edfa6"
      },
      "outputs": [],
      "source": [
        "from google.colab import files, userdata\n",
        "uploaded = files.upload()  # choose the Word file\n",
        "DOCX_PATH = next(iter(uploaded))\n",
        "print(f\"Uploaded: {DOCX_PATH}\")\n",
        "\n",
        "SOURCE_LANG = \"Portuguese\"  # @param {type:\"string\"}\n",
        "TARGET_LANG = \"Japanese\"     # @param {type:\"string\"}\n"
      ]
    },
    {
      "cell_type": "markdown",
      "id": "f0421720",
      "metadata": {
        "id": "f0421720"
      },
      "source": [
        "## 2️⃣ Utilities\n"
      ]
    },
    {
      "cell_type": "code",
      "execution_count": 18,
      "id": "17db25fc",
      "metadata": {
        "id": "17db25fc"
      },
      "outputs": [],
      "source": [
        "import os, tempfile, textwrap, math\n",
        "from pathlib import Path\n",
        "from tqdm.auto import tqdm\n",
        "import docx, json\n",
        "import mammoth, tiktoken, pypandoc\n",
        "from openai import OpenAI\n",
        "\n",
        "# ---- OpenAI ----\n",
        "client = OpenAI(api_key=userdata.get('OPENAI_API_KEY') or os.getenv(\"OPENAI_API_KEY\"))\n",
        "MODEL = \"o3\"  # o4-mini\n",
        "\n",
        "# ---- Token helpers ----\n",
        "try:\n",
        "    enc = tiktoken.encoding_for_model(MODEL)\n",
        "except KeyError:\n",
        "    enc = tiktoken.get_encoding(\"cl100k_base\")\n",
        "\n",
        "def tokens_of(text: str) -> int:\n",
        "    return len(enc.encode(text))\n",
        "\n",
        "# ---- File conversions ----\n",
        "def docx_to_html(path: str) -> str:\n",
        "    with open(path, \"rb\") as f:\n",
        "        return mammoth.convert_to_html(f).value\n",
        "\n",
        "def html_to_docx(html: str, out_path: str):\n",
        "    with tempfile.NamedTemporaryFile(\"w\", delete=False, suffix=\".html\", encoding=\"utf-8\") as tmp:\n",
        "        tmp.write(html)\n",
        "        tmp_path = tmp.name\n",
        "    pypandoc.convert_file(tmp_path, \"docx\", outputfile=out_path)\n",
        "    Path(tmp_path).unlink(missing_ok=True)\n",
        "\n",
        "def docx_to_pdf(docx_path: str, pdf_path: str):\n",
        "    pypandoc.convert_file(docx_path, \"pdf\", outputfile=pdf_path)\n",
        "\n",
        "# ---- Chunking ----\n",
        "TARGET_CHUNK_TOKENS = 6_000\n",
        "\n",
        "def chunk_html(html: str, target_tokens: int = TARGET_CHUNK_TOKENS):\n",
        "    \"\"\"Yield ~target_tokens blocks, splitting on line boundaries.\"\"\"\n",
        "    lines = html.split(\"\\n\")\n",
        "    buf, buf_tokens = [], 0\n",
        "    for line in lines:\n",
        "        t = tokens_of(line)\n",
        "        if buf_tokens + t > target_tokens and buf:\n",
        "            yield \"\\n\".join(buf)\n",
        "            buf, buf_tokens = [], 0\n",
        "        buf.append(line)\n",
        "        buf_tokens += t\n",
        "    if buf:\n",
        "        yield \"\\n\".join(buf)\n",
        "\n",
        "# ---- Instruction prompt ----\n",
        "SYSTEM_PROMPT = textwrap.dedent(\"\"\"\n",
        "Translate from {source} to {target} using a formal scholarly register.\n",
        "\n",
        "* Preserve **all** HTML tags, headings, tables, equations, citations and\n",
        "  reference markers exactly.\n",
        "* Do **not** add or remove content or change document structure.\n",
        "* Return **only** valid HTML (no Markdown, no commentary).\n",
        "\"\"\")\n",
        "\n",
        "# ---- Robust extractor ----\n",
        "def extract_translated_text(resp) -> str:\n",
        "    \"\"\"Return concatenated output_text blocks regardless of resp object style.\"\"\"\n",
        "    # Prefer the built‑in Pydantic `model_dump` (OpenAI >= 1.12)\n",
        "    if hasattr(resp, \"model_dump\"):\n",
        "        data = resp.model_dump()\n",
        "    elif hasattr(resp, \"to_dict\"):\n",
        "        data = resp.to_dict()\n",
        "    else:  # fallback try json\n",
        "        import json\n",
        "        data = json.loads(resp.json())\n",
        "    pieces = []\n",
        "    for item in data.get(\"output\", []):\n",
        "        if item.get(\"type\") == \"message\":\n",
        "            for part in item.get(\"content\", []):\n",
        "                if part.get(\"type\") == \"output_text\":\n",
        "                    pieces.append(part.get(\"text\", \"\"))\n",
        "                    print(part.get(\"text\", \"\"))\n",
        "    return \"\".join(pieces)\n",
        "\n",
        "# ---- Translator ----\n",
        "def translate_document(html: str, src: str, tgt: str) -> str:\n",
        "    translated_chunks = []\n",
        "    prev_id = None\n",
        "    chunks = list(chunk_html(html))\n",
        "    print(f\"Total chunks: {len(chunks)} (≈{TARGET_CHUNK_TOKENS} tokens each)\")\n",
        "    for idx, chunk in enumerate(tqdm(chunks, desc=\"Translating\"), start=1):\n",
        "        resp = client.responses.create(\n",
        "            model=MODEL,\n",
        "            instructions=SYSTEM_PROMPT.format(source=src, target=tgt),\n",
        "            input=chunk,\n",
        "            previous_response_id=prev_id,\n",
        "            reasoning={\"effort\": \"high\"}\n",
        "        )\n",
        "        translated_chunks.append(extract_translated_text(resp))\n",
        "        prev_id = resp.id\n",
        "    return \"\\n\".join(translated_chunks)\n"
      ]
    },
    {
      "cell_type": "markdown",
      "id": "751334b7",
      "metadata": {
        "id": "751334b7"
      },
      "source": [
        "## 3️⃣ Run the pipeline\n"
      ]
    },
    {
      "cell_type": "code",
      "execution_count": 19,
      "id": "65d16157",
      "metadata": {
        "colab": {
          "base_uri": "https://localhost:8080/",
          "height": 488,
          "referenced_widgets": [
            "7f251e772d814ad8b11ee587bf1137c2",
            "a396601f7ede40dd8d3db13bb0e95015",
            "0022fcdb069e48e691cc766d5585cabb",
            "cd827ab2a155499facbe10f6e4283f4b",
            "fea2c434d7da41e385ed2f7dd4830c0f",
            "060b7919ace04462b3f7d1b6f497776e",
            "a379e99f33664c28a1b3be9fd9089c31",
            "d16d0619efd84166b6600dfb5b8ad074",
            "1c630cf1d9d448c0bf7e297a5fd4a8a7",
            "9dbf02be1d30460ea4ab0285a00186f1",
            "19010963ea2c4bcab28a3ad1f60fa1a9"
          ]
        },
        "id": "65d16157",
        "outputId": "a9f823de-db79-41fc-b167-cc56d42de664"
      },
      "outputs": [
        {
          "output_type": "stream",
          "name": "stdout",
          "text": [
            "Source tokens: 156,295\n",
            "Total chunks: 15 (≈6000 tokens each)\n"
          ]
        },
        {
          "output_type": "display_data",
          "data": {
            "text/plain": [
              "Translating:   0%|          | 0/15 [00:00<?, ?it/s]"
            ],
            "application/vnd.jupyter.widget-view+json": {
              "version_major": 2,
              "version_minor": 0,
              "model_id": "7f251e772d814ad8b11ee587bf1137c2"
            }
          },
          "metadata": {}
        },
        {
          "output_type": "stream",
          "name": "stdout",
          "text": [
            "<p><strong>ブラジル・日本経済関係の将来展望</strong></p><p>Edson Kenji Kondo</p><p><strong>序論</strong></p><p>本稿はブラジルと日本の外交関係130周年を記念する催しの一環として作成されたものであり、両国間のビジネス関係の将来展望を考察することを目的とする。焦点は、二国間関係の大きな柱の一つを構成するブラジルにおける日本企業の活動に当てられている。</p><p>本稿はエッセイの体裁を取り、インタビュー対象者の経験と知識の恩恵を受けているが、その基盤には著者が日本で企業、NGO、多国間機関および大学において現地勤務した経験、さらに在東京ブラジル大使館勤務の経験がある。</p><p>本稿の作成に際し、日本企業および多国間機関の経営幹部の方々に限られた時間の中で面談の機会を快く提供していただき、大いなるご協力を賜ったことは誠に光栄であった。</p><p>最後に、本稿は日本企業のブラジルにおける事業拡大の展望と、この1世紀以上にわたる実り多いパートナーシップをさらに強化・促進し得る主要要素について考察する。</p><p>多くの人々にとって、日本人移民とブラジル・日本間の130年に及ぶ外交関係は成功の物語である。日系人はブラジルに根を下ろし、日本企業はブラジルに定着した。サンパウロには活発で組織的な日本商工会議所が設置され、ブラジル社会に統合されている。また、JETRO、JICA、JBIC など多数の日本機関がブラジルで活動しているほか、多様な形態の日系コミュニティ団体が存在する。</p><p>20世紀初頭の黎明期に日本当局の奨励により最初の移民が渡航した際、ブラジルはほとんど楽園のように描写されていた。そこでは散策中に地面に落ちている鶏卵を拾え、森には多種多様な果樹が自生しているという説明であった。厳密にいえば今日でもブラジル内陸部の小規模農地で類似の状況が見られるが、到着後に多くの家族が半奴隷的な境遇に置かれた現実はその描写とかけ離れていた。</p><p>異なる慣習と言語を持つ新天地に適応する自然な困難に加え、移民とブラジルの住民および当局との関係は必ずしも平穏ではなかった。</p><p>1908年の日本船笠戸丸到着から最初の数十年で、ブラジル国内ではナショナリズムと外国人排斥が強まり、国内メディアで大きく報じられた。Bruno Hayashi (2024) は「1934年、制憲議会が日本人移民を制限することを目的として外国人入国枠制度を制定した」と記している。</p><p>Hayashi の精緻な研究によれば、当時の主要三紙はいずれも1946年には日本人を望まれない移民とみなしていた。しかしその後わずか12年で、移民たちは当時の三大新聞に日本人の積極的貢献を認めさせ、称賛させることに成功した（HAYASHI, 2024）。</p><p>多数の書籍や映画が移民の苦難と試練を描いている。1980年と2005年の映画『ガイジン1』『ガイジン2』は、日本人がブラジルに適応する際の多大な困難と子孫と受け入れ側の融合を示している。Oscar Nakasato の『Nihonjin』は2012年にブラジルで最も伝統あるジャブチ賞を受賞し、移民と後続世代の叙事詩を精緻かつ魅力的に描写している（NAKASATO, 2025; ASSUNÇÃO, 2018）。</p><p>苦難の時期を乗り越え、外交関係130周年を迎えた今日、日本人およびその子孫はブラジル国民の敬愛と尊重を享受し、誠実・規律・献身・信頼の象徴とみなされている。</p><p>両国の高度な相互信頼は、2025年3月下旬のルラ大統領訪日時の声明と謝意表明において明確に示された。日本側では、徳仁天皇が少なくとも6年ぶりとなる国賓待遇で迎え、格別の敬意を示した（NHK News Web, 2025）。</p><p>インタビューに応じた企業経営者の間でも、両国間の兄弟的近接性と相互信頼の高さが共通の論調であった。この事実は、ブラジルへの投資拡大に極めて有利な特別な二国間関係を形成している。</p><p><strong>ブラジル・日本経済関係のデータ</strong></p><p>ブラジルはビジネスを行う上で挑戦的な環境として知られている。世界銀行のプロジェクト <em>Doing Business</em> の最新データでは、ブラジルは190か国中124位に位置付けられている。</p><p>こうした困難にもかかわらず、ブラジルは外国企業から最良の投資先の一つとして見られている。工業・開発省の Investvis (2025) によれば、ブラジルは1990年から2023年の間に世界第6位となる1兆2300億ドルの直接投資を受け入れた。</p><p>ブラジル・日本関係を具体的に見ると、日本はブラジルへの投資国上位20か国に入っている。2003年、2008年、2011年には日本は第4位の投資国であった。投資が少なかった年でも、日本は2017年と2021年にそれぞれ18位、17位であった。2024年には投資額で第8位となった（INVESTVIS, 2025）。</p><p>視点を日本側に移すと、JETRO（2024）の調査によれば、ブラジルは日本企業にとって事業拡大に最も好ましい国の第2位に位置付けられている。同調査では、ブラジルで事業を展開する企業の65.1%が2025年に事業を拡大したいと回答した。</p><p><strong>日本企業の海外成功を左右する要因</strong></p><p>インタビューに応じた多くの経営幹部によれば、成功の主因は現地従業員の事業運営への参画である。これは単に責任を委譲することではなく、その参画を共同で構築することである。</p><p>ある幹部によれば、海外子会社設立のプロセスは通常、以下の価値観を伝達するために数名の日本人幹部を派遣することから始まる。</p><p>a. 企業の経営哲学；および</p><p>b. 企業を定義し差別化する特性。</p><p>しかしながら各国には固有の差異があり、このプロセスは試行錯誤を伴う学習の連続であると当該幹部は説明した。世界銀行元理事の宮原敬士によれば、特定の国に関する「データ」と経験を蓄積することで投資成功の可能性は高まる。</p><p>ある企業では、新設ブラジル子会社の社長として他社出身の現地シニア幹部を採用したが、時間が経つにつれ、他の企業文化で成功した人物ほど日本企業の価値観への適応に苦労する場合があることが判明した。</p><p>そのため第2段階として、同社は優れた経験と教育を持ち、企業の原則と価値観を理解・採用する意欲を持つ現地プロフェッショナルを新たなリーダーとして育成することに時間をかける方針を採った。選抜された人物は日本で3年間の研修を受け、現在も成功裏に子会社を率いている。</p><p>企業の成功を支える要素の一つは、市場におけるブランドを定義し差別化する価値観の集合である。例えばダイキンにとって、主要な価値観の一部は次のとおりである。</p><p>1. 良き労働者を育成すれば良き企業が築かれる；</p><p>2. 企業の使命は、たとえ自社の成長を犠牲にしてでも、社会が直面する課題を解決することである；</p><p>3. 「顧客第一」はあらゆる企業に共通する標語であるが、ダイキンでは顧客がそれを独自の差別化要因として体感できねばならない。</p><p>ダイキンのグローバル戦略本部理事の上原正治によれば、これらの原則を全従業員が厳粛に適用することが同社を他社と差別化し、「ダイキンらしさ」を形成している。ダイキンは30か国以上に拠点を持ち、100超の工場を運営し、170か国以上で事業を展開している。それにもかかわらず、世界のどこであっても意思決定プロセスは同一の原則に基づいていると上原氏は強調する。</p><p>丸紅株式会社 建設・産機・モビリティ事業本部 生産システム部長の荒崎勉は、総合商社のビジネスモデルが独自であり成功要因の一つであると述べた。当初のビジネスモデルは国際ネットワークを活用して海外との接点を持たない中小企業を支援することにあった。しかし時を経て、日本企業自体が国際ネットワークを構築し、商社への依存度は低下した。</p><p>この新たな現実に適応するため、総合商社は自ら生産事業に参入した。この変革は容易ではなく、買収後の統合能力不足により大きな損失が生じた。丸紅は買収後統合を専門とする PMI (<em>Post Merger Integration</em>) 部門を設置し、文化統合に注力した。総合商社はもともと海外での事業展開に長けていたが、文化統合ノウハウを強制的に磨いたことでさらに海外適応力を高めた。</p><p>NEC コーポレート副社長の館脇真優子によれば、海外での成功は同社がイノベーションを生み出し、技術開発の最前線に留まり続けられるか否かにかかっている。製品がコモディティ化した場合、NEC はその事業から撤退する。同社は約4万2千件の特許を保有し、13年連続で世界のイノベーティブ企業100社に選出されている（NEC, 2025; CLARIVATE, 2024）。</p><p>NEC はまた、パートナー企業や買収企業との文化統合にも非常に長けている。技術系企業であるため、技術的言語と共通の価値観が統合を容易にする。この特性により、NEC は50か国で成功裏に事業を運営している。</p><p>NEC のビジネスモデルの強みは、異なる企業の端末・センサー・コネクタなどの複雑なネットワークをオープンアーキテクチャで統合し、調和的に機能させる点にある。各プロジェクトで最良のパートナーを取り込みつつ効果的に作業する能力は、NEC がさまざまな国の現実に適応する上での支援要因ともなった。</p><p>日立製作所 国際関係・公共政策本部 シニアマネージャーの山崎洋子とマネージャーの落合美穂によれば、日立の成功は価値観が整合し技術的補完性を有する企業を買収できる能力に依拠している。この原則を遵守すれば海外での成功が保証される。</p><p>日本財務省で約40年のキャリアを持ち最近退職した宮原敬士は、海外における日本企業および組織の一般的姿勢は「郷に入っては郷に従え」という格言に集約されると述べた。実際、インタビューを受けた経営幹部の大半が、現地幹部を育成し国でのリーダーに据えることを最優先事項として挙げている。</p><p>上記の議論を要約したものを以下の表1に示す。</p><p><strong>表1 – 日本企業の海外における成功要因の概要</strong></p><table><tr><td><p><strong>成功要因</strong></p></td><td><p><strong>事例</strong></p></td><td><p><strong>成功条件</strong></p></td></tr><tr><td><p>現地リーダーの育成</p></td><td><p>1. 日本での現地幹部研修<br />2. 企業価値観に親和性のある現地リーダーの任命</p></td><td><p>現地人材開発への時間と投資；文化的価値観の整合</p></td></tr><tr><td><p>企業価値観との整合</p></td><td><p>1. 文化と原則に関する長期研修<br />2. 文化的適合性のない経験者候補の排除</p></td><td><p>没入型プロセス；企業哲学の重視</p></td></tr><tr><td><p>短期利益より長期志向</p></td><td><p>1. 労働者育成の優先<br />2. 社会課題解決を中心とした使命</p></td><td><p>長期的戦略ビジョン；利益を超える価値観</p></td></tr><tr><td><p>効果的な異文化統合</p></td><td><p>1. 買収後統合専門部門の設置<br />2. 技術共通言語の活用</p></td><td><p>構造化された統合プロセス；文化多様性の尊重</p></td></tr><tr><td><p>技術革新と市場適応</p></td><td><p>1. コモディティ化した市場からの撤退<br />2. イノベーティブ企業ランキングの維持</p></td><td><p>トレンドの継続적モニタリング；技術的差別化への注力</p></td></tr><tr><td><p>現地文脈への適応力</p></td><td><p>1. 「郷に入っては郷に従え」の原則採用<br />2. リーダーシップを取る現地幹部の育成</p></td><td><p>戦略的柔軟性；現地慣行と習俗の尊重</p></td></tr><tr><td><p>買収における技術補完性</p></td><td><p>1. 技術共同開発への注力<br />2. 補完的能力を持つ企業とのパートナーシップ</p></td><td><p>シナジーの綿密な評価；協働プロジェクト</p></td></tr></table><p>出典：日本企業および多国間機関の経営幹部インタビュー</p><p><strong>日本企業の活動に有利または不利となる各国特性</strong></p><p>ある幹部によれば、アジア諸国とは地理的かつ文化的近接性が高いため、同地域への投資管理は他地域に比べ相対的に容易である。</p><p>文化的距離が大きい国々では、企業幹部の間で良好なコミュニケーションと文化差異の慎重な理解が必要との認識が共有されている。しかしブラジルでは、他の中南米諸国と比較してもコミュニケーションに追加的な複雑性が存在するように見受けられる。対話は常に友好的かつ気さくであるが、それ故にコミュニケーションがうまく流れない場合に驚かされることがある。しばしば対話を行い、相互理解の強固な基盤を築き、伝統的なシュハスコで議論を締めくくるが、職場に戻ると依然として齟齬が残ることがある。</p><p>幹部は例として、製造業の標準手順 3S (<em>sort</em>, <em>sweep</em>, <em>standardize</em>) の適用事例を挙げた。手順に従い、ある棚を床に描かれた長方形の内部に置くことが定められた。後に現場を点検したところ、棚は長方形から一部はみ出していた。棚を完全に長方形内に置くよう指摘すると、ブラジル人労働者は驚いた反応を示した。彼らは線上ぴったりか多少はみ出していても、機能的に流れを妨げず危険もないため重要性を理解できなかった。</p><p>理論的には労働者の主張は正しい。短期的には危険も非効率もなかった。しかしこの事例は、東洋と西洋の中心的差異をよく示している。幹部によれば、東洋ではすべてが相互に関連しているが、西洋では物事が個別に捉えられる。そのため棚を正確に長方形内に置くか否かは当該作業には影響しなくとも、他のケースに影響を及ぼす可能性がある。重大性の低い手順であっても同じ厳密さで実行することで、各ケースのリスク判断に依存しない習慣を形成し、全体的リスクを最小化できる。</p><p>幹部はまた、日本文化を理解する多数の日系人が存在することによる多大な利点と、日本に対する尊敬と好意、両国民の自然な親和性を指摘した。</p><p>幹部によれば、多くの課題は現在のブラジル人社長の努力により克服されつつある。同社長は日本で3年間勤務し、同社を特徴づける価値観を理解することに専心した。また彼は、ブラジル人労働者とより効果的にコミュニケーションを図る方法を本社に伝えることにも成功した。</p><p>三井ブラジル元社長の佐藤真悟によれば、各国にはそれぞれ異なる適応の課題が存在する。投資を成功させるには、個別の国特有の複数要因が、投資企業の強みと弱み、そしてその企業が属する業界の状況と相互に絡み合う。したがって「米国は容易な市場である」と言うのは真実ではない。米国は非常に競争的な市場であり、戦略的提携を模索する際であっても、日本企業が米国企業の持たない卓越した能力を有するのは難しい。</p><p>一方で、日本企業が文化的に親近感を持たず馴染みの薄いインドには別の可能性がある。同国では日本企業が有する技術的優位が特定分野で戦略的提携の基盤となり得る。実際、文化的距離があるにもかかわらず、JETRO の2024年調査では2025年に日本企業が投資または投資拡大を最も検討している国はインドであり、ブラジルが2位に位置している。</p><p>ブラジルについて佐藤は、2025年3月26日に東京で開催されたブラジル・日本経済フォーラムが、両国間に極めて稀有な相互信頼を示したと強調した。両国には自然な相互好感も存在する。</p><p>したがって、各国がもたらす容易さや困難さは、当該時点でそれらが提示する機会の大きさと組み合わせて評価されなければならない。</p><p>館脇真優子および荒崎勉は、各国の地政学的立場が企業に与える影響と、先端技術関連製品に対する主要大国の制限の中で慎重に舵取りを行うガバナンスの重要性を強調した。</p><p>ブラジルYKK農牧社元社長および米国YKK AP元社長の八木重和によれば、過去50年間の歴史は投資条件が変動し、時期によって良好にも不良にもなることを示している。この予測困難な要因を除き現在の条件に焦点を当てると、政治的安定に欠ける国では一貫したリターンを得るのが難しい。その点、米国と欧州は莫大な利益を得ることはできなくても一定の安定性をもって事業継続が可能である。総合的な不確実性を考慮すると、インドやインドネシアのように国内市場が大きい国が投資先として主要な判断材料となる。</p><p><strong>海外における競争優位をもたらす日本企業の特性</strong></p><p>企業が市場でどのように活動し競争力を高めるかは時代とともに進化してきた。19世紀末には、垂直統合が多くの企業に見られ、経済セクターを支配するに至った。市場取引を社内オペレーションに置き換え、外部契約を排除して意思決定の柔軟性を高める垂直統合の利点が多くの企業に魅力的と映った（MAC DOWELL; CAVALCANTI, 1998）。日本では、明治時代から第二次世界大戦終結まで、財閥が産業と金融を統合し経済部門を支配した（LOTT, 2011）。</p><p>戦後、多くの米国企業は地域社会や従業員を守る社会的責任を重要視していると理解されていた。GE のような企業は、従業員が退職まで勤め上げる良き雇用主と見なされていた（GELLES, 2022）。しかし1970年、ミルトン・フリードマン（1970）は歴史的論文「企業の社会的責任は利益を増大させることである」で、企業の社会的責任を強調する進歩的実業家を痛烈に批判し、それを社会主義への逸脱と断じた。彼の批判は企業に浸透し、翌10年にはジャック・ウェルチがその理論を実践した（GELLES, 2022）。</p><p>1981年に GE の CEO に就任したジャック・ウェルチはフリードマンの原則を適用し、数千人の従業員を解雇してコスト削減策を実施し、GE を世界で最も価値の高い企業へと変革した（GELLES, 2022）。ウェルチが始めたこの動きは米国企業に広がり、企業が短期利益と株価上昇のみに関心を持つようになったと見なされるに至った。</p><p>興味深いことに、日本が米国を凌駕しようとしていると考えられた高度経済成長期でさえ（VOGEL, 1979）、多くの大企業は依然として長期的視点で人的資源に投資し続けた。</p><p>日本企業を語る上で総合商社を外すことは難しい。多くのアナリストにとって、この形態は日本固有で他国にほとんど類例がない。前述のとおり、総合商社は単なる貿易を超えて、多様な分野の製造およびサービス企業を買収し、より高い価値を獲得した。例えば丸紅は現在、世界中で数千社に出資し、480社を支配している。</p><p>この新しいビジネスモデルは、ウォーレン・バフェットによっても評価され、2019年にバフェットは日本の五大商社—伊藤忠、丸紅、三菱、三井、住友—への投資を開始した（SWENEY, 2020）。2025年3月時点で、バークシャー・ハサウェイはこれら5社への平均持株比率を9.3%にまで拡大した（INFOMONEY25, 2025）。</p><p>荒崎によれば、このバフェットの投資により5社の株価はその後3倍に上昇した。丸紅の場合、株価はわずか5年で4倍になった（BLOOMBERG, 2025a）。</p><p>NEC の主要な競争力は、技術開発の最前線に留まり続ける能力にある。既述のとおり、NEC は13年連続で世界のイノベーティブ企業100社に選ばれている（NEC, 2025）。さらに NEC はシリコンバレーに NECX というベンチャービルダーを有し、100以上のスタートアップをインキュベートしている。</p><p>NEC の第2の競争力は「信用（<em>trust</em>）」である。館脇によれば、場合によっては信用が技術より重要になり得る。ここで日本企業であることは大きな強みである。世界に200年以上の歴史を持つ企業 5,586 社のうち56%以上が日本企業であり、次いでドイツが15%である（NEC AUSTRALIA, 2020）。企業がこれほど長く存続するためには、パートナーや顧客からの信頼を示す必要がある。設立120年の NEC は比較的若いが、13年連続で最も革新的な企業100社に入り（CLARIVATE, 2024）、その株価は2023年4月以降の2年間で3倍となるなど、評価が高い（BLOOMBERG, 2025b）。</p><p>この信用こそが、NEC が5G 技術普及の一環としてオープンアーキテクチャの RAN (Radio Access Network) サービスの構築に参画できる理由である。NEC はアプリケーションからインフラに至るまで垂直統合された機能を提供し、同一バーティカル内で最良のサプライヤーをパートナーとして活用する（NEC AUSTRALIA, 2020）。この分野で NEC は技術およびソフトウエアプロバイダーであるだけでなく、ネットワークのすべてのコンポーネントを統合し、オープンで統合されたネットワークが円滑に機能するようテストと保証を行う。</p><p>八木重和によれば、YKK の競争力はファスナーおよびアルミプロファイルの継続的なイノベーションにある。この絶え間ない革新力により、YKK は世界71か国に進出している。YKK のファスナーは衣料品だけでなく、自動車シートの組立て、タンカー沈没時の海上油流出防止、水没したトンネルへの浸水抑制、さらにはロケットにも使用されている。イノベーションにより、YKK の収益は近年過去最高を更新し続けている。</p><p>もう一つの強力な競争優位を持つ企業として日立が挙げられる。同社は将来の中核とならない事業を迅速に売却し、指向する分野に集中するという果敢かつ有能な戦略執行で他社経営者から高く評価されている。</p><p><strong>ブラジルへの投資動機</strong></p><p>上村正治によれば、ブラジルへの投資の主因は市場規模である。スケールメリットが得られるビジネスにとってブラジル市場は無視できない挑戦である。ブラジルでは年間400万台の家庭用エアコンが消費される。比較としてアフリカ全体で300万台である。将来に関し、規制や税制の課題があるにもかかわらず、ダイキンはブラジルでの存在感を拡大することに疑いの余地はないと同氏は述べた。同氏によれば、ダイキンは提示された条件の範囲内でブラジルの消費者を獲得するために取り組む。</p><p>NEC は1968年にブラジルで電話機製造工場を開設した。その後事業の焦点を調整し一部を売却した結果、現在は顔認証などのセキュリティシステムやスマートシティのIT・インフラ統合に注力している。50年以上にわたりブラジルで築いた信用により、同社は連邦警察、空港、各級政府と協働している。NEC は資産取得や現地企業との提携を通じて、ブラジルでの事業をさらに拡大したいと考えている。</p><p><strong>経済・人口動態の変化が二国間関係の将来に与える影響</strong></p><p>よりマクロな視点から、IDB（米州開発銀行）日本理事の芹生太郎は、日本企業のさらなるブラジル投資を受け入れる準備がブラジル市場に整っているとの見解を示した。ブラジルは世界有数の経済規模を持ち、近年の衝撃にも耐えた堅固な民主主義を有していると同氏は付言した。2023年12月には、製造・流通の各段階で累積課税されるというビジネス障壁を取り除く重要な税制改革も実施された。</p><p>もう一つ重要な点は、日本、ブラジル、ラテンアメリカ間での人口と経済の相対的推移である。表2に示すように、2002年の日本の人口は1億2745万人、ブラジルは1億7850万人、ラテンアメリカは4億7988万人であった（WORLD BANK GROUP, 2025a）。</p><p>20年後の2023年、日本の人口は1億2451万人（-2.3%）へ減少したのに対し、ブラジルは2億1114万人（+18.3%）、ラテンアメリカは5億9499万人（+24%）へ増加した。</p><p><strong>表2 – 人口（百万人）</strong></p><table><tr><td><p><strong> </strong></p></td><td><p><strong>2002年</strong></p></td><td><p><strong>2023年</strong></p></td><td><p><strong>2002-23年人口増減率</strong></p></td></tr><tr><td><p><strong>ブラジル</strong></p></td><td><p>178,503</p></td><td><p>211,140</p></td><td><p>18.3%</p></td></tr><tr><td><p><strong>ラテンアメリカ・カリブ海</strong></p></td><td><p>479,875</p></td><td><p>594,995</p></td><td><p>24.0%</p></td></tr><tr><td><p><strong>日本</strong></p></td><td><p>127,445</p></td><td><p>124,516</p></td><td><p>-2.3%</p></td></tr></table><p>出典：WORLD BANK GROUP, 2025a.</p><p>経済規模で見ると、表3に示すとおり2002年の国内総生産（GDP）は日本が4.2兆ドル、ブラジルが0.5兆ドル、ラテンアメリカが1.8兆ドルであった。日本経済はブラジルの8倍、ラテンアメリカ全体のほぼ3倍であった。</p><p>20年後、日本のGDPは4.2兆ドルで足踏みする一方、ブラジルは326.4%増の2.2兆ドル、ラテンアメリカは250.4%増の6.1兆ドルとなった。なお、日本円は2002年12月31日から2023年12月31日までに対ドルで18.76%下落し（MACROTRENDS, 2025）、ブラジルレアルも同期間に対ドルで37.11%下落している（XE.COM, 2025）。今日、ブラジル経済は日本の約半分、ラテンアメリカは1.5倍を占める。芹生は、これらの数字が、日本企業が今後もラテンアメリカとブラジルに投資し続けるさらに強い理由となっていると指摘した。</p><p><strong>表3 – 名目GDP（10億US$）</strong></p><table><tr><td><p><strong> </strong></p></td><td><p><strong>2002年</strong></p></td><td><p><strong>日本比率</strong></p></td><td><p><strong>2023年</strong></p></td><td><p><strong>日本比率</strong></p></td><td><p><strong>2002-2023年成長率</strong></p></td></tr><tr><td><p><strong>ブラジル</strong></p></td><td><p>509,795</p></td><td><p>12.2%</p></td><td><p>2173,665</p></td><td><p>51.7%</p></td><td><p>326.4%</p></td></tr><tr><td><p><strong>ラテンアメリカ・カリブ海</strong></p></td><td><p>1757,09</p></td><td><p>42.0%</p></td><td><p>6157,47</p></td><td><p>146.4%</p></td><td><p>250.4%</p></td></tr><tr><td><p><strong>日本</strong></p></td><td><p>4183,846</p></td><td><p>100.0%</p></td><td><p>4204,495</p></td><td><p>100.0%</p></td><td><p>0.5%</p></td></tr></table><p>出典：WORLD BANK GROUP, 2025a.</p><p>芹生はさらに、日本近隣諸国で強まる地政学的リスクが、今後数年間にブラジルとの関係を強化する追加的動機となると付け加えた。</p><p>複数のインタビューで繰り返し言及されたもう一つのテーマは、日本の労働力不足への懸念である。表2が示すように人口は20年間で2.3%減少したが、下図1が示すように2010年に始まった人口減の傾斜ははるかに大きい。直近3年間では人口が174万人、すなわち1.39%減少した。これは神戸や京都のような大都市がわずか3年で消失したに等しい規模である。</p><p><strong>グラフ1―日本の人口変化（2000-2023年）</strong></p><p><img alt=\"Gráfico, Gráfico de linhas\" /></p>\n"
          ]
        },
        {
          "output_type": "error",
          "ename": "BadRequestError",
          "evalue": "Error code: 400 - {'error': {'message': 'One of \"input\" or \"previous_response_id\" must be provided.', 'type': 'invalid_request_error', 'param': None, 'code': 'missing_required_parameter'}}",
          "traceback": [
            "\u001b[0;31m---------------------------------------------------------------------------\u001b[0m",
            "\u001b[0;31mBadRequestError\u001b[0m                           Traceback (most recent call last)",
            "\u001b[0;32m<ipython-input-19-23243aa77361>\u001b[0m in \u001b[0;36m<cell line: 0>\u001b[0;34m()\u001b[0m\n\u001b[1;32m      2\u001b[0m \u001b[0mprint\u001b[0m\u001b[0;34m(\u001b[0m\u001b[0;34mf\"Source tokens: {tokens_of(html_src):,}\"\u001b[0m\u001b[0;34m)\u001b[0m\u001b[0;34m\u001b[0m\u001b[0;34m\u001b[0m\u001b[0m\n\u001b[1;32m      3\u001b[0m \u001b[0;34m\u001b[0m\u001b[0m\n\u001b[0;32m----> 4\u001b[0;31m \u001b[0mhtml_trg\u001b[0m \u001b[0;34m=\u001b[0m \u001b[0mtranslate_document\u001b[0m\u001b[0;34m(\u001b[0m\u001b[0mhtml_src\u001b[0m\u001b[0;34m,\u001b[0m \u001b[0mSOURCE_LANG\u001b[0m\u001b[0;34m,\u001b[0m \u001b[0mTARGET_LANG\u001b[0m\u001b[0;34m)\u001b[0m\u001b[0;34m\u001b[0m\u001b[0;34m\u001b[0m\u001b[0m\n\u001b[0m\u001b[1;32m      5\u001b[0m \u001b[0;34m\u001b[0m\u001b[0m\n\u001b[1;32m      6\u001b[0m \u001b[0mDOCX_OUT\u001b[0m \u001b[0;34m=\u001b[0m \u001b[0;34mf\"translated_{TARGET_LANG}.docx\"\u001b[0m\u001b[0;34m\u001b[0m\u001b[0;34m\u001b[0m\u001b[0m\n",
            "\u001b[0;32m<ipython-input-18-321efe951de6>\u001b[0m in \u001b[0;36mtranslate_document\u001b[0;34m(html, src, tgt)\u001b[0m\n\u001b[1;32m     88\u001b[0m     \u001b[0mprint\u001b[0m\u001b[0;34m(\u001b[0m\u001b[0;34mf\"Total chunks: {len(chunks)} (≈{TARGET_CHUNK_TOKENS} tokens each)\"\u001b[0m\u001b[0;34m)\u001b[0m\u001b[0;34m\u001b[0m\u001b[0;34m\u001b[0m\u001b[0m\n\u001b[1;32m     89\u001b[0m     \u001b[0;32mfor\u001b[0m \u001b[0midx\u001b[0m\u001b[0;34m,\u001b[0m \u001b[0mchunk\u001b[0m \u001b[0;32min\u001b[0m \u001b[0menumerate\u001b[0m\u001b[0;34m(\u001b[0m\u001b[0mtqdm\u001b[0m\u001b[0;34m(\u001b[0m\u001b[0mchunks\u001b[0m\u001b[0;34m,\u001b[0m \u001b[0mdesc\u001b[0m\u001b[0;34m=\u001b[0m\u001b[0;34m\"Translating\"\u001b[0m\u001b[0;34m)\u001b[0m\u001b[0;34m,\u001b[0m \u001b[0mstart\u001b[0m\u001b[0;34m=\u001b[0m\u001b[0;36m1\u001b[0m\u001b[0;34m)\u001b[0m\u001b[0;34m:\u001b[0m\u001b[0;34m\u001b[0m\u001b[0;34m\u001b[0m\u001b[0m\n\u001b[0;32m---> 90\u001b[0;31m         resp = client.responses.create(\n\u001b[0m\u001b[1;32m     91\u001b[0m             \u001b[0mmodel\u001b[0m\u001b[0;34m=\u001b[0m\u001b[0mMODEL\u001b[0m\u001b[0;34m,\u001b[0m\u001b[0;34m\u001b[0m\u001b[0;34m\u001b[0m\u001b[0m\n\u001b[1;32m     92\u001b[0m             \u001b[0minstructions\u001b[0m\u001b[0;34m=\u001b[0m\u001b[0mSYSTEM_PROMPT\u001b[0m\u001b[0;34m.\u001b[0m\u001b[0mformat\u001b[0m\u001b[0;34m(\u001b[0m\u001b[0msource\u001b[0m\u001b[0;34m=\u001b[0m\u001b[0msrc\u001b[0m\u001b[0;34m,\u001b[0m \u001b[0mtarget\u001b[0m\u001b[0;34m=\u001b[0m\u001b[0mtgt\u001b[0m\u001b[0;34m)\u001b[0m\u001b[0;34m,\u001b[0m\u001b[0;34m\u001b[0m\u001b[0;34m\u001b[0m\u001b[0m\n",
            "\u001b[0;32m/usr/local/lib/python3.11/dist-packages/openai/_utils/_utils.py\u001b[0m in \u001b[0;36mwrapper\u001b[0;34m(*args, **kwargs)\u001b[0m\n\u001b[1;32m    285\u001b[0m                         \u001b[0mmsg\u001b[0m \u001b[0;34m=\u001b[0m \u001b[0;34mf\"Missing required argument: {quote(missing[0])}\"\u001b[0m\u001b[0;34m\u001b[0m\u001b[0;34m\u001b[0m\u001b[0m\n\u001b[1;32m    286\u001b[0m                 \u001b[0;32mraise\u001b[0m \u001b[0mTypeError\u001b[0m\u001b[0;34m(\u001b[0m\u001b[0mmsg\u001b[0m\u001b[0;34m)\u001b[0m\u001b[0;34m\u001b[0m\u001b[0;34m\u001b[0m\u001b[0m\n\u001b[0;32m--> 287\u001b[0;31m             \u001b[0;32mreturn\u001b[0m \u001b[0mfunc\u001b[0m\u001b[0;34m(\u001b[0m\u001b[0;34m*\u001b[0m\u001b[0margs\u001b[0m\u001b[0;34m,\u001b[0m \u001b[0;34m**\u001b[0m\u001b[0mkwargs\u001b[0m\u001b[0;34m)\u001b[0m\u001b[0;34m\u001b[0m\u001b[0;34m\u001b[0m\u001b[0m\n\u001b[0m\u001b[1;32m    288\u001b[0m \u001b[0;34m\u001b[0m\u001b[0m\n\u001b[1;32m    289\u001b[0m         \u001b[0;32mreturn\u001b[0m \u001b[0mwrapper\u001b[0m  \u001b[0;31m# type: ignore\u001b[0m\u001b[0;34m\u001b[0m\u001b[0;34m\u001b[0m\u001b[0m\n",
            "\u001b[0;32m/usr/local/lib/python3.11/dist-packages/openai/resources/responses/responses.py\u001b[0m in \u001b[0;36mcreate\u001b[0;34m(self, input, model, background, include, instructions, max_output_tokens, metadata, parallel_tool_calls, previous_response_id, reasoning, service_tier, store, stream, temperature, text, tool_choice, tools, top_p, truncation, user, extra_headers, extra_query, extra_body, timeout)\u001b[0m\n\u001b[1;32m    682\u001b[0m         \u001b[0mtimeout\u001b[0m\u001b[0;34m:\u001b[0m \u001b[0mfloat\u001b[0m \u001b[0;34m|\u001b[0m \u001b[0mhttpx\u001b[0m\u001b[0;34m.\u001b[0m\u001b[0mTimeout\u001b[0m \u001b[0;34m|\u001b[0m \u001b[0;32mNone\u001b[0m \u001b[0;34m|\u001b[0m \u001b[0mNotGiven\u001b[0m \u001b[0;34m=\u001b[0m \u001b[0mNOT_GIVEN\u001b[0m\u001b[0;34m,\u001b[0m\u001b[0;34m\u001b[0m\u001b[0;34m\u001b[0m\u001b[0m\n\u001b[1;32m    683\u001b[0m     ) -> Response | Stream[ResponseStreamEvent]:\n\u001b[0;32m--> 684\u001b[0;31m         return self._post(\n\u001b[0m\u001b[1;32m    685\u001b[0m             \u001b[0;34m\"/responses\"\u001b[0m\u001b[0;34m,\u001b[0m\u001b[0;34m\u001b[0m\u001b[0;34m\u001b[0m\u001b[0m\n\u001b[1;32m    686\u001b[0m             body=maybe_transform(\n",
            "\u001b[0;32m/usr/local/lib/python3.11/dist-packages/openai/_base_client.py\u001b[0m in \u001b[0;36mpost\u001b[0;34m(self, path, cast_to, body, options, files, stream, stream_cls)\u001b[0m\n\u001b[1;32m   1237\u001b[0m             \u001b[0mmethod\u001b[0m\u001b[0;34m=\u001b[0m\u001b[0;34m\"post\"\u001b[0m\u001b[0;34m,\u001b[0m \u001b[0murl\u001b[0m\u001b[0;34m=\u001b[0m\u001b[0mpath\u001b[0m\u001b[0;34m,\u001b[0m \u001b[0mjson_data\u001b[0m\u001b[0;34m=\u001b[0m\u001b[0mbody\u001b[0m\u001b[0;34m,\u001b[0m \u001b[0mfiles\u001b[0m\u001b[0;34m=\u001b[0m\u001b[0mto_httpx_files\u001b[0m\u001b[0;34m(\u001b[0m\u001b[0mfiles\u001b[0m\u001b[0;34m)\u001b[0m\u001b[0;34m,\u001b[0m \u001b[0;34m**\u001b[0m\u001b[0moptions\u001b[0m\u001b[0;34m\u001b[0m\u001b[0;34m\u001b[0m\u001b[0m\n\u001b[1;32m   1238\u001b[0m         )\n\u001b[0;32m-> 1239\u001b[0;31m         \u001b[0;32mreturn\u001b[0m \u001b[0mcast\u001b[0m\u001b[0;34m(\u001b[0m\u001b[0mResponseT\u001b[0m\u001b[0;34m,\u001b[0m \u001b[0mself\u001b[0m\u001b[0;34m.\u001b[0m\u001b[0mrequest\u001b[0m\u001b[0;34m(\u001b[0m\u001b[0mcast_to\u001b[0m\u001b[0;34m,\u001b[0m \u001b[0mopts\u001b[0m\u001b[0;34m,\u001b[0m \u001b[0mstream\u001b[0m\u001b[0;34m=\u001b[0m\u001b[0mstream\u001b[0m\u001b[0;34m,\u001b[0m \u001b[0mstream_cls\u001b[0m\u001b[0;34m=\u001b[0m\u001b[0mstream_cls\u001b[0m\u001b[0;34m)\u001b[0m\u001b[0;34m)\u001b[0m\u001b[0;34m\u001b[0m\u001b[0;34m\u001b[0m\u001b[0m\n\u001b[0m\u001b[1;32m   1240\u001b[0m \u001b[0;34m\u001b[0m\u001b[0m\n\u001b[1;32m   1241\u001b[0m     def patch(\n",
            "\u001b[0;32m/usr/local/lib/python3.11/dist-packages/openai/_base_client.py\u001b[0m in \u001b[0;36mrequest\u001b[0;34m(self, cast_to, options, stream, stream_cls)\u001b[0m\n\u001b[1;32m   1032\u001b[0m \u001b[0;34m\u001b[0m\u001b[0m\n\u001b[1;32m   1033\u001b[0m                 \u001b[0mlog\u001b[0m\u001b[0;34m.\u001b[0m\u001b[0mdebug\u001b[0m\u001b[0;34m(\u001b[0m\u001b[0;34m\"Re-raising status error\"\u001b[0m\u001b[0;34m)\u001b[0m\u001b[0;34m\u001b[0m\u001b[0;34m\u001b[0m\u001b[0m\n\u001b[0;32m-> 1034\u001b[0;31m                 \u001b[0;32mraise\u001b[0m \u001b[0mself\u001b[0m\u001b[0;34m.\u001b[0m\u001b[0m_make_status_error_from_response\u001b[0m\u001b[0;34m(\u001b[0m\u001b[0merr\u001b[0m\u001b[0;34m.\u001b[0m\u001b[0mresponse\u001b[0m\u001b[0;34m)\u001b[0m \u001b[0;32mfrom\u001b[0m \u001b[0;32mNone\u001b[0m\u001b[0;34m\u001b[0m\u001b[0;34m\u001b[0m\u001b[0m\n\u001b[0m\u001b[1;32m   1035\u001b[0m \u001b[0;34m\u001b[0m\u001b[0m\n\u001b[1;32m   1036\u001b[0m             \u001b[0;32mbreak\u001b[0m\u001b[0;34m\u001b[0m\u001b[0;34m\u001b[0m\u001b[0m\n",
            "\u001b[0;31mBadRequestError\u001b[0m: Error code: 400 - {'error': {'message': 'One of \"input\" or \"previous_response_id\" must be provided.', 'type': 'invalid_request_error', 'param': None, 'code': 'missing_required_parameter'}}"
          ]
        }
      ],
      "source": [
        "html_src = docx_to_html(DOCX_PATH)\n",
        "print(f\"Source tokens: {tokens_of(html_src):,}\")\n",
        "\n",
        "html_trg = translate_document(html_src, SOURCE_LANG, TARGET_LANG)\n",
        "\n",
        "DOCX_OUT = f\"translated_{TARGET_LANG}.docx\"\n",
        "PDF_OUT  = f\"translated_{TARGET_LANG}.pdf\"\n",
        "\n",
        "html_to_docx(html_trg, DOCX_OUT)\n",
        "\n",
        "print(\"\\n🎉  Done!  Download below:\")\n",
        "from google.colab import files as colab_files\n",
        "colab_files.download(DOCX_OUT)"
      ]
    }
  ],
  "metadata": {
    "colab": {
      "provenance": []
    },
    "language_info": {
      "name": "python"
    },
    "kernelspec": {
      "name": "python3",
      "display_name": "Python 3"
    },
    "widgets": {
      "application/vnd.jupyter.widget-state+json": {
        "7f251e772d814ad8b11ee587bf1137c2": {
          "model_module": "@jupyter-widgets/controls",
          "model_name": "HBoxModel",
          "model_module_version": "1.5.0",
          "state": {
            "_dom_classes": [],
            "_model_module": "@jupyter-widgets/controls",
            "_model_module_version": "1.5.0",
            "_model_name": "HBoxModel",
            "_view_count": null,
            "_view_module": "@jupyter-widgets/controls",
            "_view_module_version": "1.5.0",
            "_view_name": "HBoxView",
            "box_style": "",
            "children": [
              "IPY_MODEL_a396601f7ede40dd8d3db13bb0e95015",
              "IPY_MODEL_0022fcdb069e48e691cc766d5585cabb",
              "IPY_MODEL_cd827ab2a155499facbe10f6e4283f4b"
            ],
            "layout": "IPY_MODEL_fea2c434d7da41e385ed2f7dd4830c0f"
          }
        },
        "a396601f7ede40dd8d3db13bb0e95015": {
          "model_module": "@jupyter-widgets/controls",
          "model_name": "HTMLModel",
          "model_module_version": "1.5.0",
          "state": {
            "_dom_classes": [],
            "_model_module": "@jupyter-widgets/controls",
            "_model_module_version": "1.5.0",
            "_model_name": "HTMLModel",
            "_view_count": null,
            "_view_module": "@jupyter-widgets/controls",
            "_view_module_version": "1.5.0",
            "_view_name": "HTMLView",
            "description": "",
            "description_tooltip": null,
            "layout": "IPY_MODEL_060b7919ace04462b3f7d1b6f497776e",
            "placeholder": "​",
            "style": "IPY_MODEL_a379e99f33664c28a1b3be9fd9089c31",
            "value": "Translating:   7%"
          }
        },
        "0022fcdb069e48e691cc766d5585cabb": {
          "model_module": "@jupyter-widgets/controls",
          "model_name": "FloatProgressModel",
          "model_module_version": "1.5.0",
          "state": {
            "_dom_classes": [],
            "_model_module": "@jupyter-widgets/controls",
            "_model_module_version": "1.5.0",
            "_model_name": "FloatProgressModel",
            "_view_count": null,
            "_view_module": "@jupyter-widgets/controls",
            "_view_module_version": "1.5.0",
            "_view_name": "ProgressView",
            "bar_style": "danger",
            "description": "",
            "description_tooltip": null,
            "layout": "IPY_MODEL_d16d0619efd84166b6600dfb5b8ad074",
            "max": 15,
            "min": 0,
            "orientation": "horizontal",
            "style": "IPY_MODEL_1c630cf1d9d448c0bf7e297a5fd4a8a7",
            "value": 1
          }
        },
        "cd827ab2a155499facbe10f6e4283f4b": {
          "model_module": "@jupyter-widgets/controls",
          "model_name": "HTMLModel",
          "model_module_version": "1.5.0",
          "state": {
            "_dom_classes": [],
            "_model_module": "@jupyter-widgets/controls",
            "_model_module_version": "1.5.0",
            "_model_name": "HTMLModel",
            "_view_count": null,
            "_view_module": "@jupyter-widgets/controls",
            "_view_module_version": "1.5.0",
            "_view_name": "HTMLView",
            "description": "",
            "description_tooltip": null,
            "layout": "IPY_MODEL_9dbf02be1d30460ea4ab0285a00186f1",
            "placeholder": "​",
            "style": "IPY_MODEL_19010963ea2c4bcab28a3ad1f60fa1a9",
            "value": " 1/15 [02:29&lt;34:46, 149.02s/it]"
          }
        },
        "fea2c434d7da41e385ed2f7dd4830c0f": {
          "model_module": "@jupyter-widgets/base",
          "model_name": "LayoutModel",
          "model_module_version": "1.2.0",
          "state": {
            "_model_module": "@jupyter-widgets/base",
            "_model_module_version": "1.2.0",
            "_model_name": "LayoutModel",
            "_view_count": null,
            "_view_module": "@jupyter-widgets/base",
            "_view_module_version": "1.2.0",
            "_view_name": "LayoutView",
            "align_content": null,
            "align_items": null,
            "align_self": null,
            "border": null,
            "bottom": null,
            "display": null,
            "flex": null,
            "flex_flow": null,
            "grid_area": null,
            "grid_auto_columns": null,
            "grid_auto_flow": null,
            "grid_auto_rows": null,
            "grid_column": null,
            "grid_gap": null,
            "grid_row": null,
            "grid_template_areas": null,
            "grid_template_columns": null,
            "grid_template_rows": null,
            "height": null,
            "justify_content": null,
            "justify_items": null,
            "left": null,
            "margin": null,
            "max_height": null,
            "max_width": null,
            "min_height": null,
            "min_width": null,
            "object_fit": null,
            "object_position": null,
            "order": null,
            "overflow": null,
            "overflow_x": null,
            "overflow_y": null,
            "padding": null,
            "right": null,
            "top": null,
            "visibility": null,
            "width": null
          }
        },
        "060b7919ace04462b3f7d1b6f497776e": {
          "model_module": "@jupyter-widgets/base",
          "model_name": "LayoutModel",
          "model_module_version": "1.2.0",
          "state": {
            "_model_module": "@jupyter-widgets/base",
            "_model_module_version": "1.2.0",
            "_model_name": "LayoutModel",
            "_view_count": null,
            "_view_module": "@jupyter-widgets/base",
            "_view_module_version": "1.2.0",
            "_view_name": "LayoutView",
            "align_content": null,
            "align_items": null,
            "align_self": null,
            "border": null,
            "bottom": null,
            "display": null,
            "flex": null,
            "flex_flow": null,
            "grid_area": null,
            "grid_auto_columns": null,
            "grid_auto_flow": null,
            "grid_auto_rows": null,
            "grid_column": null,
            "grid_gap": null,
            "grid_row": null,
            "grid_template_areas": null,
            "grid_template_columns": null,
            "grid_template_rows": null,
            "height": null,
            "justify_content": null,
            "justify_items": null,
            "left": null,
            "margin": null,
            "max_height": null,
            "max_width": null,
            "min_height": null,
            "min_width": null,
            "object_fit": null,
            "object_position": null,
            "order": null,
            "overflow": null,
            "overflow_x": null,
            "overflow_y": null,
            "padding": null,
            "right": null,
            "top": null,
            "visibility": null,
            "width": null
          }
        },
        "a379e99f33664c28a1b3be9fd9089c31": {
          "model_module": "@jupyter-widgets/controls",
          "model_name": "DescriptionStyleModel",
          "model_module_version": "1.5.0",
          "state": {
            "_model_module": "@jupyter-widgets/controls",
            "_model_module_version": "1.5.0",
            "_model_name": "DescriptionStyleModel",
            "_view_count": null,
            "_view_module": "@jupyter-widgets/base",
            "_view_module_version": "1.2.0",
            "_view_name": "StyleView",
            "description_width": ""
          }
        },
        "d16d0619efd84166b6600dfb5b8ad074": {
          "model_module": "@jupyter-widgets/base",
          "model_name": "LayoutModel",
          "model_module_version": "1.2.0",
          "state": {
            "_model_module": "@jupyter-widgets/base",
            "_model_module_version": "1.2.0",
            "_model_name": "LayoutModel",
            "_view_count": null,
            "_view_module": "@jupyter-widgets/base",
            "_view_module_version": "1.2.0",
            "_view_name": "LayoutView",
            "align_content": null,
            "align_items": null,
            "align_self": null,
            "border": null,
            "bottom": null,
            "display": null,
            "flex": null,
            "flex_flow": null,
            "grid_area": null,
            "grid_auto_columns": null,
            "grid_auto_flow": null,
            "grid_auto_rows": null,
            "grid_column": null,
            "grid_gap": null,
            "grid_row": null,
            "grid_template_areas": null,
            "grid_template_columns": null,
            "grid_template_rows": null,
            "height": null,
            "justify_content": null,
            "justify_items": null,
            "left": null,
            "margin": null,
            "max_height": null,
            "max_width": null,
            "min_height": null,
            "min_width": null,
            "object_fit": null,
            "object_position": null,
            "order": null,
            "overflow": null,
            "overflow_x": null,
            "overflow_y": null,
            "padding": null,
            "right": null,
            "top": null,
            "visibility": null,
            "width": null
          }
        },
        "1c630cf1d9d448c0bf7e297a5fd4a8a7": {
          "model_module": "@jupyter-widgets/controls",
          "model_name": "ProgressStyleModel",
          "model_module_version": "1.5.0",
          "state": {
            "_model_module": "@jupyter-widgets/controls",
            "_model_module_version": "1.5.0",
            "_model_name": "ProgressStyleModel",
            "_view_count": null,
            "_view_module": "@jupyter-widgets/base",
            "_view_module_version": "1.2.0",
            "_view_name": "StyleView",
            "bar_color": null,
            "description_width": ""
          }
        },
        "9dbf02be1d30460ea4ab0285a00186f1": {
          "model_module": "@jupyter-widgets/base",
          "model_name": "LayoutModel",
          "model_module_version": "1.2.0",
          "state": {
            "_model_module": "@jupyter-widgets/base",
            "_model_module_version": "1.2.0",
            "_model_name": "LayoutModel",
            "_view_count": null,
            "_view_module": "@jupyter-widgets/base",
            "_view_module_version": "1.2.0",
            "_view_name": "LayoutView",
            "align_content": null,
            "align_items": null,
            "align_self": null,
            "border": null,
            "bottom": null,
            "display": null,
            "flex": null,
            "flex_flow": null,
            "grid_area": null,
            "grid_auto_columns": null,
            "grid_auto_flow": null,
            "grid_auto_rows": null,
            "grid_column": null,
            "grid_gap": null,
            "grid_row": null,
            "grid_template_areas": null,
            "grid_template_columns": null,
            "grid_template_rows": null,
            "height": null,
            "justify_content": null,
            "justify_items": null,
            "left": null,
            "margin": null,
            "max_height": null,
            "max_width": null,
            "min_height": null,
            "min_width": null,
            "object_fit": null,
            "object_position": null,
            "order": null,
            "overflow": null,
            "overflow_x": null,
            "overflow_y": null,
            "padding": null,
            "right": null,
            "top": null,
            "visibility": null,
            "width": null
          }
        },
        "19010963ea2c4bcab28a3ad1f60fa1a9": {
          "model_module": "@jupyter-widgets/controls",
          "model_name": "DescriptionStyleModel",
          "model_module_version": "1.5.0",
          "state": {
            "_model_module": "@jupyter-widgets/controls",
            "_model_module_version": "1.5.0",
            "_model_name": "DescriptionStyleModel",
            "_view_count": null,
            "_view_module": "@jupyter-widgets/base",
            "_view_module_version": "1.2.0",
            "_view_name": "StyleView",
            "description_width": ""
          }
        }
      }
    }
  },
  "nbformat": 4,
  "nbformat_minor": 5
}
